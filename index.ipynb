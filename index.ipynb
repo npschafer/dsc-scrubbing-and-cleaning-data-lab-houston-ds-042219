{
 "cells": [
  {
   "cell_type": "markdown",
   "metadata": {},
   "source": [
    "# Scrubbing and Cleaning Data - Lab\n",
    "\n",
    "## Introduction\n",
    "\n",
    "In the previous labs, you joined the data from our separate files into a single DataFrame.  In this lab, you'll scrub the data to get it ready for exploration and modeling!\n",
    "\n",
    "## Objectives\n",
    "\n",
    "You will be able to:\n",
    "\n",
    "* Cast columns to the appropriate data types\n",
    "* Identify and deal with null values appropriately\n",
    "* Remove unnecessary columns\n",
    "* Understand how to normalize data\n",
    "\n",
    "\n",
    "## Getting Started\n",
    "\n",
    "You'll find the resulting dataset from our work in the _Obtaining Data_ Lab stored within the file `walmart_data_not_cleaned.csv`.  \n",
    "\n",
    "In the cells below:\n",
    "\n",
    "* Import pandas and set the standard alias\n",
    "* Import numpy and set the standard alias\n",
    "* Import matplotlib.pyplot and set the standard alias\n",
    "* Import seaborn and set the alias `sns` (this is the standard alias for seaborn)\n",
    "* Use the ipython magic command to set all matplotlib visualizations to display inline in the notebook\n",
    "* Load the dataset stored in the .csv file into a DataFrame using pandas\n",
    "* Inspect the head of the DataFrame to ensure everything loaded correctly"
   ]
  },
  {
   "cell_type": "code",
   "execution_count": 2,
   "metadata": {},
   "outputs": [],
   "source": [
    "import pandas as pd\n",
    "import numpy as np\n",
    "import matplotlib.pyplot as plt\n",
    "import seaborn as sns\n",
    "%matplotlib inline"
   ]
  },
  {
   "cell_type": "code",
   "execution_count": 3,
   "metadata": {},
   "outputs": [],
   "source": [
    "df = pd.read_csv(\"Lego_data_merged.csv\")"
   ]
  },
  {
   "cell_type": "code",
   "execution_count": 4,
   "metadata": {},
   "outputs": [
    {
     "data": {
      "text/html": [
       "<div>\n",
       "<style scoped>\n",
       "    .dataframe tbody tr th:only-of-type {\n",
       "        vertical-align: middle;\n",
       "    }\n",
       "\n",
       "    .dataframe tbody tr th {\n",
       "        vertical-align: top;\n",
       "    }\n",
       "\n",
       "    .dataframe thead th {\n",
       "        text-align: right;\n",
       "    }\n",
       "</style>\n",
       "<table border=\"1\" class=\"dataframe\">\n",
       "  <thead>\n",
       "    <tr style=\"text-align: right;\">\n",
       "      <th></th>\n",
       "      <th>prod_id</th>\n",
       "      <th>ages</th>\n",
       "      <th>piece_count</th>\n",
       "      <th>set_name</th>\n",
       "      <th>prod_desc</th>\n",
       "      <th>prod_long_desc</th>\n",
       "      <th>theme_name</th>\n",
       "      <th>country</th>\n",
       "      <th>list_price</th>\n",
       "      <th>num_reviews</th>\n",
       "      <th>play_star_rating</th>\n",
       "      <th>review_difficulty</th>\n",
       "      <th>star_rating</th>\n",
       "      <th>val_star_rating</th>\n",
       "    </tr>\n",
       "  </thead>\n",
       "  <tbody>\n",
       "    <tr>\n",
       "      <th>0</th>\n",
       "      <td>75823</td>\n",
       "      <td>6-12</td>\n",
       "      <td>277</td>\n",
       "      <td>Bird Island Egg Heist</td>\n",
       "      <td>Catapult into action and take back the eggs fr...</td>\n",
       "      <td>Use the staircase catapult to launch Red into ...</td>\n",
       "      <td>Angry Birds™</td>\n",
       "      <td>US</td>\n",
       "      <td>$29.99</td>\n",
       "      <td>2.0</td>\n",
       "      <td>4.0</td>\n",
       "      <td>Average</td>\n",
       "      <td>4.5</td>\n",
       "      <td>4.0</td>\n",
       "    </tr>\n",
       "    <tr>\n",
       "      <th>1</th>\n",
       "      <td>75822</td>\n",
       "      <td>6-12</td>\n",
       "      <td>168</td>\n",
       "      <td>Piggy Plane Attack</td>\n",
       "      <td>Launch a flying attack and rescue the eggs fro...</td>\n",
       "      <td>Pilot Pig has taken off from Bird Island with ...</td>\n",
       "      <td>Angry Birds™</td>\n",
       "      <td>US</td>\n",
       "      <td>$19.99</td>\n",
       "      <td>2.0</td>\n",
       "      <td>4.0</td>\n",
       "      <td>Easy</td>\n",
       "      <td>5.0</td>\n",
       "      <td>4.0</td>\n",
       "    </tr>\n",
       "    <tr>\n",
       "      <th>2</th>\n",
       "      <td>75821</td>\n",
       "      <td>6-12</td>\n",
       "      <td>74</td>\n",
       "      <td>Piggy Car Escape</td>\n",
       "      <td>Chase the piggy with lightning-fast Chuck and ...</td>\n",
       "      <td>Pitch speedy bird Chuck against the Piggy Car....</td>\n",
       "      <td>Angry Birds™</td>\n",
       "      <td>US</td>\n",
       "      <td>$12.99</td>\n",
       "      <td>11.0</td>\n",
       "      <td>4.3</td>\n",
       "      <td>Easy</td>\n",
       "      <td>4.3</td>\n",
       "      <td>4.1</td>\n",
       "    </tr>\n",
       "    <tr>\n",
       "      <th>3</th>\n",
       "      <td>21030</td>\n",
       "      <td>12+</td>\n",
       "      <td>1032</td>\n",
       "      <td>United States Capitol Building</td>\n",
       "      <td>Explore the architecture of the United States ...</td>\n",
       "      <td>Discover the architectural secrets of the icon...</td>\n",
       "      <td>Architecture</td>\n",
       "      <td>US</td>\n",
       "      <td>$99.99</td>\n",
       "      <td>23.0</td>\n",
       "      <td>3.6</td>\n",
       "      <td>Average</td>\n",
       "      <td>4.6</td>\n",
       "      <td>4.3</td>\n",
       "    </tr>\n",
       "    <tr>\n",
       "      <th>4</th>\n",
       "      <td>21035</td>\n",
       "      <td>12+</td>\n",
       "      <td>744</td>\n",
       "      <td>Solomon R. Guggenheim Museum®</td>\n",
       "      <td>Recreate the Solomon R. Guggenheim Museum® wit...</td>\n",
       "      <td>Discover the architectural secrets of Frank Ll...</td>\n",
       "      <td>Architecture</td>\n",
       "      <td>US</td>\n",
       "      <td>$79.99</td>\n",
       "      <td>14.0</td>\n",
       "      <td>3.2</td>\n",
       "      <td>Challenging</td>\n",
       "      <td>4.6</td>\n",
       "      <td>4.1</td>\n",
       "    </tr>\n",
       "  </tbody>\n",
       "</table>\n",
       "</div>"
      ],
      "text/plain": [
       "   prod_id  ages  piece_count                        set_name  \\\n",
       "0    75823  6-12          277           Bird Island Egg Heist   \n",
       "1    75822  6-12          168              Piggy Plane Attack   \n",
       "2    75821  6-12           74                Piggy Car Escape   \n",
       "3    21030   12+         1032  United States Capitol Building   \n",
       "4    21035   12+          744   Solomon R. Guggenheim Museum®   \n",
       "\n",
       "                                           prod_desc  \\\n",
       "0  Catapult into action and take back the eggs fr...   \n",
       "1  Launch a flying attack and rescue the eggs fro...   \n",
       "2  Chase the piggy with lightning-fast Chuck and ...   \n",
       "3  Explore the architecture of the United States ...   \n",
       "4  Recreate the Solomon R. Guggenheim Museum® wit...   \n",
       "\n",
       "                                      prod_long_desc    theme_name country  \\\n",
       "0  Use the staircase catapult to launch Red into ...  Angry Birds™      US   \n",
       "1  Pilot Pig has taken off from Bird Island with ...  Angry Birds™      US   \n",
       "2  Pitch speedy bird Chuck against the Piggy Car....  Angry Birds™      US   \n",
       "3  Discover the architectural secrets of the icon...  Architecture      US   \n",
       "4  Discover the architectural secrets of Frank Ll...  Architecture      US   \n",
       "\n",
       "  list_price  num_reviews  play_star_rating review_difficulty  star_rating  \\\n",
       "0     $29.99          2.0               4.0           Average          4.5   \n",
       "1     $19.99          2.0               4.0              Easy          5.0   \n",
       "2     $12.99         11.0               4.3              Easy          4.3   \n",
       "3     $99.99         23.0               3.6           Average          4.6   \n",
       "4     $79.99         14.0               3.2       Challenging          4.6   \n",
       "\n",
       "   val_star_rating  \n",
       "0              4.0  \n",
       "1              4.0  \n",
       "2              4.1  \n",
       "3              4.3  \n",
       "4              4.1  "
      ]
     },
     "execution_count": 4,
     "metadata": {},
     "output_type": "execute_result"
    }
   ],
   "source": [
    "df.head()"
   ]
  },
  {
   "cell_type": "markdown",
   "metadata": {},
   "source": [
    "## Starting our Data Cleaning\n",
    "\n",
    "To start, you'll deal with the most obvious issue: data features with the wrong data encoding.\n",
    "\n",
    "### Checking Data Types\n",
    "\n",
    "In the cell below, use the appropriate method to check the data type of each column. "
   ]
  },
  {
   "cell_type": "code",
   "execution_count": 5,
   "metadata": {},
   "outputs": [
    {
     "name": "stdout",
     "output_type": "stream",
     "text": [
      "<class 'pandas.core.frame.DataFrame'>\n",
      "RangeIndex: 10870 entries, 0 to 10869\n",
      "Data columns (total 14 columns):\n",
      "prod_id              10870 non-null int64\n",
      "ages                 10870 non-null object\n",
      "piece_count          10870 non-null int64\n",
      "set_name             10870 non-null object\n",
      "prod_desc            10512 non-null object\n",
      "prod_long_desc       10870 non-null object\n",
      "theme_name           10870 non-null object\n",
      "country              10870 non-null object\n",
      "list_price           10870 non-null object\n",
      "num_reviews          9449 non-null float64\n",
      "play_star_rating     9321 non-null float64\n",
      "review_difficulty    9104 non-null object\n",
      "star_rating          9449 non-null float64\n",
      "val_star_rating      9301 non-null float64\n",
      "dtypes: float64(4), int64(2), object(8)\n",
      "memory usage: 1.2+ MB\n"
     ]
    }
   ],
   "source": [
    "df.info()"
   ]
  },
  {
   "cell_type": "markdown",
   "metadata": {},
   "source": [
    "Now, investigate some of the unique values inside of the `list_price` column."
   ]
  },
  {
   "cell_type": "code",
   "execution_count": 6,
   "metadata": {},
   "outputs": [
    {
     "data": {
      "text/plain": [
       "array(['$29.99', '$19.99', '$12.99', '$99.99', '$79.99', '$59.99',\n",
       "       '$49.99', '$39.99', '$34.99', '$159.99', '$9.99', '$199.99',\n",
       "       '$149.99', '$119.99', '$89.99', '$69.99', '$24.99', '$15.99',\n",
       "       '$14.99', '$6.99', '$16.99', '$7.99', '$4.99', '$2.49', '$369.99',\n",
       "       '$169.99', '$279.99', '$249.99', '$239.99', '$139.99', '$269.99',\n",
       "       '$129.99', '$44.99', '$11.99', '$349.99', '$5.99', '$109.99',\n",
       "       '$54.99', '$32.99', '$197.99', '$88.99', '$41.99', '$31.99',\n",
       "       '$26.99', '$21.99', '$3.99', '$299.99', '$754.99', '$484.99',\n",
       "       '$36.99', '$789.99', '$499.99', '$84.99', '$799.99', '$289.99',\n",
       "       '$179.99', '$113.9924', '$75.9924', '$60.7924', '$53.1924',\n",
       "       '$45.59240000000001', '$37.9924', '$189.9924', '$30.3924',\n",
       "       '$22.7924', '$12.1524', '$227.9924', '$174.7924', '$121.5924',\n",
       "       '$34.1924', '$18.9924', '$17.4724', '$13.6724', '$7.5924',\n",
       "       '$15.1924', '$9.8724', '$6.0724', '$2.2724', '$91.1924',\n",
       "       '$379.9924', '$303.9924000000001', '$288.7924',\n",
       "       '$265.99240000000003', '$220.3924', '$151.9924',\n",
       "       '$129.19240000000002', '$83.5924', '$136.7924', '$26.5924',\n",
       "       '$53.162000000000006', '$37.962', '$30.362', '$18.962', '$41.7924',\n",
       "       '$11.3924', '$68.3924', '$250.7924', '$26.6', '$4.5524',\n",
       "       '$144.3924', '$197.5924', '$106.3924', '$645.9924', '$607.9924',\n",
       "       '$395.1924', '$29.6324', '$205.1924', '$98.7924', '$987.9924',\n",
       "       '$167.19240000000005', '$25.0724', '$121.9878', '$85.3878',\n",
       "       '$73.1878', '$60.9878', '$48.7878', '$42.6878', '$36.5878',\n",
       "       '$195.1878', '$24.3878', '$12.1878', '$219.5878',\n",
       "       '$158.58780000000004', '$146.3878', '$109.7878', '$97.5878',\n",
       "       '$21.9478', '$18.2878', '$7.3078', '$30.4878', '$9.7478',\n",
       "       '$6.0878000000000005', '$3.0378000000000003', '$54.8878',\n",
       "       '$182.9878', '$402.5878', '$292.7878', '$268.3878', '$329.3878',\n",
       "       '$426.9878', '$243.9878', '$79.28779999999998', '$67.0878',\n",
       "       '$40.2478', '$15.8478', '$28.0478', '$19.5078', '$304.9878',\n",
       "       '$4.8678', '$365.9878', '$207.3878', '$853.9878', '$683.1878',\n",
       "       '$439.1878', '$609.9878', '$170.7878', '$134.18779999999998',\n",
       "       '$20.7278', '$975.9878', '$280.5878', '$45.1278', '$91.4878',\n",
       "       '$32.9278', '$14.6278', '$317.1878', '$231.7878', '$128.0878',\n",
       "       '$341.5878', '$103.6878', '$487.9878', '$1035.78',\n",
       "       '$31.192200000000003', '$19.4922', '$12.4722',\n",
       "       '$101.39220000000002', '$77.9922', '$62.3922', '$58.4922',\n",
       "       '$54.5922', '$38.9922', '$35.092200000000005',\n",
       "       '$155.99220000000003', '$10.1322', '$9.3522', '$179.3922',\n",
       "       '$140.3922', '$132.59220000000002', '$116.9922', '$85.7922',\n",
       "       '$70.1922', '$50.6922', '$46.7922', '$23.3922', '$15.5922',\n",
       "       '$7.0122', '$6.2322000000000015', '$27.2922', '$14.0322',\n",
       "       '$7.7922', '$5.4522', '$2.3322000000000003', '$350.9922',\n",
       "       '$171.59220000000005', '$265.1922', '$233.99220000000003',\n",
       "       '$194.99220000000003', '$148.1922', '$93.5922', '$272.9922',\n",
       "       '$124.7922', '$257.3922', '$42.8922', '$11.6922', '$311.9922',\n",
       "       '$14.8122', '$3.8922', '$167.6922', '$74.0922', '$28.0722',\n",
       "       '$18.7122', '$28.041000000000004', '$109.1922', '$3.1122',\n",
       "       '$21.8322', '$588.8922', '$378.2922', '$28.852200000000003',\n",
       "       '$616.1922000000002', '$13.252199999999998', '$467.9922',\n",
       "       '$701.9922', '$288.5922', '$187.1922', '$17.1522', '$121.38',\n",
       "       '$86.59800000000001', '$71.298', '$61.098', '$50.898', '$40.698',\n",
       "       '$35.598', '$192.78', '$25.398000000000003', '$12.138', '$213.18',\n",
       "       '$151.98', '$141.78', '$101.898', '$91.698', '$23.358', '$20.298',\n",
       "       '$18.258', '$7.0379999999999985', '$30.498', '$10.098',\n",
       "       '$6.0180000000000025', '$2.958', '$21.318', '$182.58', '$396.78',\n",
       "       '$284.58', '$264.18', '$81.498', '$304.98', '$96.798', '$417.18',\n",
       "       '$243.78', '$111.18', '$66.19800000000001', '$15.198', '$27.438',\n",
       "       '$254.898', '$131.58', '$45.798', '$4.998', '$355.98', '$202.98',\n",
       "       '$233.58', '$857.7180000000002', '$821.0898', '$528.258',\n",
       "       '$39.678', '$590.58', '$172.38', '$967.98', '$274.38',\n",
       "       '$129.55200000000002', '$86.352', '$81.55199999999998', '$67.152',\n",
       "       '$62.352', '$57.552', '$43.152', '$38.352', '$215.952', '$23.952',\n",
       "       '$12.432', '$239.952', '$177.55200000000005', '$158.352',\n",
       "       '$143.952', '$139.15200000000002', '$124.75200000000001',\n",
       "       '$110.352', '$95.952', '$76.752', '$52.752', '$19.152', '$12.912',\n",
       "       '$11.952', '$7.152', '$47.952', '$40.752', '$33.552', '$9.552',\n",
       "       '$6.192', '$3.3120000000000003', '$431.952', '$335.952',\n",
       "       '$311.952', '$167.952', '$119.952', '$383.952', '$115.152',\n",
       "       '$479.952', '$287.952', '$28.752', '$134.352', '$16.752',\n",
       "       '$91.152', '$71.952', '$191.952', '$163.15200000000004',\n",
       "       '$503.952', '$263.952', '$4.752', '$14.352', '$767.952', '$715.2',\n",
       "       '$719.952', '$153.55200000000005', '$955.2', '$21.552',\n",
       "       '$81.72779999999999', '$176.8878', '$10.9678',\n",
       "       '$82.94779999999999', '$37.8078', '$251.3078', '$165.9078',\n",
       "       '$115.88779999999998', '$69.5278', '$35.36779999999999',\n",
       "       '$92.7078', '$17.0678', '$43.9078', '$463.5878', '$47.5678',\n",
       "       '$152.4878', '$225.6878', '$140.2878', '$213.4878', '$68.3078',\n",
       "       '$104.9078', '$93.9278', '$974.78', '$164.6878', '$13.4078',\n",
       "       '$107.88', '$77.88', '$65.88', '$53.88', '$47.88', '$41.88',\n",
       "       '$36.0', '$30.0', '$167.88', '$32.4', '$24.0', '$12.0', '$203.88',\n",
       "       '$131.88', '$119.88', '$95.88', '$89.88', '$21.6', '$18.0',\n",
       "       '$15.6', '$6.0', '$27.6', '$8.4', '$4.8', '$2.4', '$323.88',\n",
       "       '$251.88', '$239.88', '$179.88', '$155.88', '$71.88', '$275.88',\n",
       "       '$29.88', '$23.88', '$15.48', '$359.88', '$10.8', '$83.88',\n",
       "       '$59.88', '$143.88', '$3.6', '$311.88', '$215.88', '$522.0',\n",
       "       '$499.2', '$321.12', '$539.88', '$102.0', '$839.88', '$146.339',\n",
       "       '$109.739', '$91.439', '$79.23899999999998', '$60.93899999999999',\n",
       "       '$48.739', '$42.639', '$231.739', '$30.439', '$15.799', '$243.939',\n",
       "       '$182.939', '$170.73899999999998', '$121.939', '$103.639',\n",
       "       '$85.339', '$73.139', '$36.539', '$24.339', '$21.899',\n",
       "       '$7.258999999999999', '$12.139', '$6.039', '$3.599', '$67.039',\n",
       "       '$219.539', '$487.939', '$341.539', '$329.339', '$268.339',\n",
       "       '$134.139', '$97.539', '$365.939', '$54.83900000000001',\n",
       "       '$280.539', '$158.539', '$18.239', '$32.879', '$195.139', '$4.819',\n",
       "       '$426.939', '$304.939', '$731.9390000000003', '$292.7390000000001',\n",
       "       '$1097.939', '$353.7390000000001', '$115.839',\n",
       "       '$207.33900000000003', '$45.75', '$23.1678', '$46.3478',\n",
       "       '$29.2678', '$475.7878', '$52.4478', '$451.3878', '$21.35',\n",
       "       '$25.6078', '$201.2878', '$136.62779999999998', '$118.986',\n",
       "       '$90.986', '$76.986', '$62.986', '$41.986', '$209.986',\n",
       "       '$36.385999999999996', '$25.186', '$13.985999999999999', '$11.186',\n",
       "       '$153.986', '$111.986', '$97.986', '$55.986', '$48.986', '$34.986',\n",
       "       '$27.986', '$22.386', '$20.986', '$18.186', '$14.686', '$12.586',\n",
       "       '$6.9860000000000015', '$9.786', '$2.786', '$39.18599999999999',\n",
       "       '$181.986', '$419.986', '$307.986', '$251.986', '$223.986',\n",
       "       '$200.186', '$104.986', '$349.986', '$139.986', '$69.986',\n",
       "       '$57.386', '$23.785999999999998', '$16.785999999999998', '$5.586',\n",
       "       '$83.986', '$15.386', '$398.986', '$195.986', '$167.986',\n",
       "       '$125.986', '$284.186', '$114.786', '$32.18599999999999',\n",
       "       '$29.386', '$363.986', '$4.186', '$713.9860000000001', '$686.252',\n",
       "       '$440.986', '$33.586', '$573.986', '$237.986', '$909.986',\n",
       "       '$265.986', '$64.6478', '$22.3138', '$31.7078', '$309.8678',\n",
       "       '$189.0878', '$16.104', '$256.1878', '$43.3954', '$89.0478',\n",
       "       '$15.2378', '$378.1878', '$101.2478', '$155.87', '$103.87',\n",
       "       '$90.87', '$77.87', '$64.87', '$58.37000000000001',\n",
       "       '$51.87000000000001', '$45.37000000000001', '$220.87', '$25.987',\n",
       "       '$12.987000000000002', '$259.87', '$181.87', '$142.87', '$129.87',\n",
       "       '$116.87', '$97.37', '$90.987', '$71.37', '$45.487', '$38.987',\n",
       "       '$29.887', '$28.587000000000003', '$25.87', '$22.087',\n",
       "       '$7.787000000000001', '$19.487000000000002', '$10.387', '$6.487',\n",
       "       '$3.12', '$233.87', '$454.87', '$389.87', '$324.87', '$168.87',\n",
       "       '$493.87', '$285.87', '$32.486999999999995', '$23.387',\n",
       "       '$15.587000000000002', '$38.87000000000001', '$84.37', '$207.87',\n",
       "       '$194.87', '$22.035', '$363.87', '$5.187', '$415.87', '$246.87',\n",
       "       '$16.887', '$605.735', '$579.735', '$371.735', '$28.535',\n",
       "       '$714.87', '$298.87', '$1104.87', '$337.87', '$127.7929',\n",
       "       '$92.2929', '$70.99289999999998', '$63.89289999999999', '$49.6929',\n",
       "       '$42.5929', '$212.9929', '$35.4929', '$28.3929',\n",
       "       '$14.192899999999998', '$269.7929', '$198.7929', '$177.4929',\n",
       "       '$120.6929', '$78.09289999999999', '$56.7929', '$24.8429',\n",
       "       '$21.2929', '$9.2229', '$7.0929', '$31.9429', '$17.7429',\n",
       "       '$3.5429', '$85.1929', '$425.9929', '$319.4929', '$283.9929',\n",
       "       '$248.4929', '$156.1929', '$141.9929', '$99.3929', '$354.9929',\n",
       "       '$262.6929', '$12.772899999999998', '$106.4929', '$11.3529',\n",
       "       '$16.322899999999994', '$191.6929', '$24.1329', '$22.365',\n",
       "       '$163.2929', '$4.2529', '$922.9929', '$709.9929', '$567.29',\n",
       "       '$638.9929', '$184.5929', '$113.5929', '$1064.9929', '$130.4971',\n",
       "       '$86.9971', '$81.19709999999998', '$63.7971', '$57.9971',\n",
       "       '$52.1971', '$43.4971', '$37.6971', '$202.9971', '$26.0971',\n",
       "       '$13.0471', '$12.4671', '$231.9971', '$173.9971', '$144.9971',\n",
       "       '$121.7971', '$115.9971', '$104.3971', '$89.8971', '$72.4971',\n",
       "       '$60.8971', '$23.197099999999995', '$20.2971', '$11.5971',\n",
       "       '$7.247099999999999', '$34.79709999999999', '$28.9971', '$17.3971',\n",
       "       '$10.1471', '$5.7971', '$2.8971', '$78.2971', '$75.3971',\n",
       "       '$46.3971', '$31.897099999999995', '$435.0', '$319.0', '$289.9971',\n",
       "       '$240.6971', '$197.1971', '$188.4971', '$159.4971', '$92.7971',\n",
       "       '$348.0', '$66.69709999999999', '$49.2971', '$40.5971',\n",
       "       '$110.1971', '$449.21', '$275.4971', '$107.2971', '$95.6971',\n",
       "       '$55.0971', '$464.0', '$153.6971', '$98.5971', '$69.5971',\n",
       "       '$179.7971', '$136.2971', '$478.4971', '$304.4971', '$345.1',\n",
       "       '$4.93', '$391.5', '$226.1971', '$101.4971', '$260.9971',\n",
       "       '$869.9999999999999', '$725.0', '$667.0', '$133.3971', '$113.0971',\n",
       "       '$1015.0', '$304.21', '$165.2971', '$118.8971', '$181.7678',\n",
       "       '$153.7078'], dtype=object)"
      ]
     },
     "execution_count": 6,
     "metadata": {},
     "output_type": "execute_result"
    }
   ],
   "source": [
    "df[\"list_price\"].unique()"
   ]
  },
  {
   "cell_type": "markdown",
   "metadata": {},
   "source": [
    "### Numerical Data Stored as Strings\n",
    "\n",
    "A common issue to check for at this stage is numeric columns that have accidentally been encoded as strings. For example, you should notice that the `list_price` column above is currently formatted as a string and contains a proceeding '$'. Remove this and convert the remaining number to a `float` so that you can later model this value. After all, your primary task is to generate model to predict the price.\n",
    "\n",
    "> Note: While the data spans a multitude of countries, assume for now that all prices have been standardized to USD."
   ]
  },
  {
   "cell_type": "code",
   "execution_count": 7,
   "metadata": {},
   "outputs": [],
   "source": [
    "df[\"list_price\"] = df[\"list_price\"].apply(lambda x: float(x[1:]))"
   ]
  },
  {
   "cell_type": "markdown",
   "metadata": {},
   "source": [
    "### Detecting and Dealing With Null Values\n",
    "\n",
    "Next, it's time to check for null values. How to deal with the null values will be determined by the columns containing them, and how many null values exist in each.  \n",
    " \n",
    "In the cell below, get a count of how many null values exist in each column in the DataFrame. "
   ]
  },
  {
   "cell_type": "code",
   "execution_count": 8,
   "metadata": {},
   "outputs": [
    {
     "data": {
      "text/plain": [
       "prod_id                 0\n",
       "ages                    0\n",
       "piece_count             0\n",
       "set_name                0\n",
       "prod_desc             358\n",
       "prod_long_desc          0\n",
       "theme_name              0\n",
       "country                 0\n",
       "list_price              0\n",
       "num_reviews          1421\n",
       "play_star_rating     1549\n",
       "review_difficulty    1766\n",
       "star_rating          1421\n",
       "val_star_rating      1569\n",
       "dtype: int64"
      ]
     },
     "execution_count": 8,
     "metadata": {},
     "output_type": "execute_result"
    }
   ],
   "source": [
    "df.isnull().sum()"
   ]
  },
  {
   "cell_type": "markdown",
   "metadata": {},
   "source": [
    "Now, get some descriptive statistics for each of the columns. You want to see where the minimum and maximum values lie.  "
   ]
  },
  {
   "cell_type": "code",
   "execution_count": 9,
   "metadata": {},
   "outputs": [
    {
     "data": {
      "text/html": [
       "<div>\n",
       "<style scoped>\n",
       "    .dataframe tbody tr th:only-of-type {\n",
       "        vertical-align: middle;\n",
       "    }\n",
       "\n",
       "    .dataframe tbody tr th {\n",
       "        vertical-align: top;\n",
       "    }\n",
       "\n",
       "    .dataframe thead th {\n",
       "        text-align: right;\n",
       "    }\n",
       "</style>\n",
       "<table border=\"1\" class=\"dataframe\">\n",
       "  <thead>\n",
       "    <tr style=\"text-align: right;\">\n",
       "      <th></th>\n",
       "      <th>prod_id</th>\n",
       "      <th>piece_count</th>\n",
       "      <th>list_price</th>\n",
       "      <th>num_reviews</th>\n",
       "      <th>play_star_rating</th>\n",
       "      <th>star_rating</th>\n",
       "      <th>val_star_rating</th>\n",
       "    </tr>\n",
       "  </thead>\n",
       "  <tbody>\n",
       "    <tr>\n",
       "      <th>count</th>\n",
       "      <td>1.087000e+04</td>\n",
       "      <td>10870.000000</td>\n",
       "      <td>10870.000000</td>\n",
       "      <td>9449.000000</td>\n",
       "      <td>9321.000000</td>\n",
       "      <td>9449.000000</td>\n",
       "      <td>9301.000000</td>\n",
       "    </tr>\n",
       "    <tr>\n",
       "      <th>mean</th>\n",
       "      <td>6.181634e+04</td>\n",
       "      <td>503.936431</td>\n",
       "      <td>67.309137</td>\n",
       "      <td>17.813737</td>\n",
       "      <td>4.355413</td>\n",
       "      <td>4.510319</td>\n",
       "      <td>4.214439</td>\n",
       "    </tr>\n",
       "    <tr>\n",
       "      <th>std</th>\n",
       "      <td>1.736390e+05</td>\n",
       "      <td>831.209318</td>\n",
       "      <td>94.669414</td>\n",
       "      <td>38.166693</td>\n",
       "      <td>0.617272</td>\n",
       "      <td>0.516463</td>\n",
       "      <td>0.670906</td>\n",
       "    </tr>\n",
       "    <tr>\n",
       "      <th>min</th>\n",
       "      <td>6.300000e+02</td>\n",
       "      <td>1.000000</td>\n",
       "      <td>2.272400</td>\n",
       "      <td>1.000000</td>\n",
       "      <td>1.000000</td>\n",
       "      <td>1.800000</td>\n",
       "      <td>1.000000</td>\n",
       "    </tr>\n",
       "    <tr>\n",
       "      <th>25%</th>\n",
       "      <td>2.112300e+04</td>\n",
       "      <td>97.000000</td>\n",
       "      <td>21.899000</td>\n",
       "      <td>2.000000</td>\n",
       "      <td>4.000000</td>\n",
       "      <td>4.300000</td>\n",
       "      <td>4.000000</td>\n",
       "    </tr>\n",
       "    <tr>\n",
       "      <th>50%</th>\n",
       "      <td>4.207350e+04</td>\n",
       "      <td>223.000000</td>\n",
       "      <td>36.587800</td>\n",
       "      <td>6.000000</td>\n",
       "      <td>4.500000</td>\n",
       "      <td>4.600000</td>\n",
       "      <td>4.300000</td>\n",
       "    </tr>\n",
       "    <tr>\n",
       "      <th>75%</th>\n",
       "      <td>7.124800e+04</td>\n",
       "      <td>556.000000</td>\n",
       "      <td>73.187800</td>\n",
       "      <td>14.000000</td>\n",
       "      <td>4.800000</td>\n",
       "      <td>5.000000</td>\n",
       "      <td>4.700000</td>\n",
       "    </tr>\n",
       "    <tr>\n",
       "      <th>max</th>\n",
       "      <td>2.000431e+06</td>\n",
       "      <td>7541.000000</td>\n",
       "      <td>1104.870000</td>\n",
       "      <td>367.000000</td>\n",
       "      <td>5.000000</td>\n",
       "      <td>5.000000</td>\n",
       "      <td>5.000000</td>\n",
       "    </tr>\n",
       "  </tbody>\n",
       "</table>\n",
       "</div>"
      ],
      "text/plain": [
       "            prod_id   piece_count    list_price  num_reviews  \\\n",
       "count  1.087000e+04  10870.000000  10870.000000  9449.000000   \n",
       "mean   6.181634e+04    503.936431     67.309137    17.813737   \n",
       "std    1.736390e+05    831.209318     94.669414    38.166693   \n",
       "min    6.300000e+02      1.000000      2.272400     1.000000   \n",
       "25%    2.112300e+04     97.000000     21.899000     2.000000   \n",
       "50%    4.207350e+04    223.000000     36.587800     6.000000   \n",
       "75%    7.124800e+04    556.000000     73.187800    14.000000   \n",
       "max    2.000431e+06   7541.000000   1104.870000   367.000000   \n",
       "\n",
       "       play_star_rating  star_rating  val_star_rating  \n",
       "count       9321.000000  9449.000000      9301.000000  \n",
       "mean           4.355413     4.510319         4.214439  \n",
       "std            0.617272     0.516463         0.670906  \n",
       "min            1.000000     1.800000         1.000000  \n",
       "25%            4.000000     4.300000         4.000000  \n",
       "50%            4.500000     4.600000         4.300000  \n",
       "75%            4.800000     5.000000         4.700000  \n",
       "max            5.000000     5.000000         5.000000  "
      ]
     },
     "execution_count": 9,
     "metadata": {},
     "output_type": "execute_result"
    }
   ],
   "source": [
    "df.describe()"
   ]
  },
  {
   "cell_type": "markdown",
   "metadata": {},
   "source": [
    "Now that you have a bit more of a understanding of each of these features you can now make an informed decision about the best strategy for dealing with the various null values. \n",
    "\n",
    "Some common strategies for filling null values include:\n",
    "* Using the mean of the feature\n",
    "* Using the median of the feature\n",
    "* Inserting a random value from a normal distribution with the mean and std of the feature\n",
    "* Binning\n",
    "\n",
    "Given that most of the features with null values concern user reviews of the lego set, it is reasonable to wonder whether there is strong correlation between these features in the first place. Before proceeding, take a minute to investigate this hypothesis."
   ]
  },
  {
   "cell_type": "code",
   "execution_count": 10,
   "metadata": {},
   "outputs": [
    {
     "data": {
      "text/plain": [
       "<matplotlib.axes._subplots.AxesSubplot at 0x7fbf4ad66748>"
      ]
     },
     "execution_count": 10,
     "metadata": {},
     "output_type": "execute_result"
    },
    {
     "data": {
      "image/png": "[encoded data removed]",
      "text/plain": [
       "<Figure size 432x288 with 2 Axes>"
      ]
     },
     "metadata": {
      "needs_background": "light"
     },
     "output_type": "display_data"
    }
   ],
   "source": [
    "sns.heatmap(df.corr())"
   ]
  },
  {
   "cell_type": "markdown",
   "metadata": {},
   "source": [
    " "
   ]
  },
  {
   "cell_type": "markdown",
   "metadata": {},
   "source": [
    "Note that there is substantial correlation between the `play_star_rating`, `star_rating` and `val_star_rating`. While this could lead to multicollinearity in your eventual regression model, it is too early to clearly determine this at this point. Remember that multicollinearity is a relationship between 3 or more variables while correlation simply investigates the relationship between two variables.\n",
    "\n",
    "Additionally, these relationships provide an alternative method for imputing missing values: since they appear to be correlated, you could use these features to help impute missing values in the others features. For example, if you are missing the star_rating for a particular row but have the val_star_rating for that same entry, it seems reasonable to assume that it is a good estimate for the missing star_rating value as they are highly correlated. That said, doing so does come with risks; indeed you would be further increasing the correlation between these features which could further provoke multicollinearity in the final model.\n",
    "\n",
    "Investigate if you could use one of the other star rating features when one is missing. How many rows have one of `play_star_rating`, `star_rating` and `val_star_rating` missing, but not all three."
   ]
  },
  {
   "cell_type": "code",
   "execution_count": 12,
   "metadata": {},
   "outputs": [
    {
     "data": {
      "text/plain": [
       "(array([9301.,    0.,    0.,   20.,    0.,    0.,  128.,    0.,    0.,\n",
       "        1421.]),\n",
       " array([0. , 0.3, 0.6, 0.9, 1.2, 1.5, 1.8, 2.1, 2.4, 2.7, 3. ]),\n",
       " <a list of 10 Patch objects>)"
      ]
     },
     "execution_count": 12,
     "metadata": {},
     "output_type": "execute_result"
    },
    {
     "data": {
      "image/png": "[encoded data removed]",
      "text/plain": [
       "<Figure size 432x288 with 1 Axes>"
      ]
     },
     "metadata": {
      "needs_background": "light"
     },
     "output_type": "display_data"
    }
   ],
   "source": [
    "plt.hist(df[\"play_star_rating\"].isnull().astype(int) +\\\n",
    "df[\"star_rating\"].isnull().astype(int) +\\\n",
    "df[\"val_star_rating\"].isnull().astype(int))"
   ]
  },
  {
   "cell_type": "markdown",
   "metadata": {},
   "source": [
    "Well, it seems like when one is missing, the other two are also apt to be missing. While this has been a bit of an extended investigation, simply go ahead and fill the missing values with that features median.  \n",
    "\n",
    "Fill in the missing `review_difficulty` values with 'unknown'."
   ]
  },
  {
   "cell_type": "code",
   "execution_count": 13,
   "metadata": {},
   "outputs": [],
   "source": [
    "df[\"play_star_rating\"].fillna(df[\"play_star_rating\"].median(), inplace=True)\n",
    "df[\"star_rating\"].fillna(df[\"star_rating\"].median(), inplace=True)\n",
    "df[\"val_star_rating\"].fillna(df[\"val_star_rating\"].median(), inplace=True)\n",
    "df[\"review_difficulty\"].fillna(\"unknown\", inplace=True)"
   ]
  },
  {
   "cell_type": "markdown",
   "metadata": {},
   "source": [
    "## Normalizing the Data\n",
    "\n",
    "Now, you'll need to convert all of our numeric columns to the same scale by **_normalizing_** our dataset.  Recall that you normalize a dataset by converting each numeric value to it's corresponding z-score for the column, which is obtained by subtracting the column's mean and then dividing by the column's standard deviation for every value. \n",
    "\n",
    "\n",
    "In the cell below:\n",
    "\n",
    "* Normalize the numeric X features by subtracting the column mean and dividing by the column standard deviation. \n",
    "(Don't bother to normalize the list_price as this is the feature you will be predicting.)"
   ]
  },
  {
   "cell_type": "code",
   "execution_count": 14,
   "metadata": {},
   "outputs": [],
   "source": [
    "for column in df._get_numeric_data().columns:\n",
    "    if column not in [\"list_price\", \"prod_id\"]:\n",
    "        df[column] = (df[column]-df[column].mean())/df[column].std()"
   ]
  },
  {
   "cell_type": "markdown",
   "metadata": {},
   "source": [
    "## Saving Your Results\n",
    "\n",
    "While you'll once again practice one-hot encoding as you would to preprocess data before fitting a model, saving such a reperesentation of the data will eat up additional disk space. After all, a categorical variable with 10 bins will be transformed to 10 seperate features when passed through `pd.get_dummies()`. As such, while the further practice is worthwhile, save your DataFrame as is for now."
   ]
  },
  {
   "cell_type": "code",
   "execution_count": 15,
   "metadata": {},
   "outputs": [],
   "source": [
    "df.to_csv(\"tempdf.csv\", index=False)"
   ]
  },
  {
   "cell_type": "markdown",
   "metadata": {},
   "source": [
    "## One-Hot Encoding Categorical Columns\n",
    "\n",
    "As a final step, you'll need to deal with the categorical columns by **_one-hot encoding_** them into binary variables via the `pd.get_dummies()` method.  \n",
    "\n",
    "When doing this, you should also subset to appropriate features. If you were to simply pass the entire DataFrame to the `pd.get_dummies()` method as it stands now, then you would end up with unique features for every single product description! (Presumably the descriptions are unique.) As such, you should first subset to the numeric features that you will eventually use in a model along with categorical variables that are not unique.\n",
    "\n",
    "In the cell below, subset to the appropriate predictive features and then use the [`pd.get_dummies()`](https://pandas.pydata.org/pandas-docs/stable/generated/pandas.get_dummies.html) to one-hot encode the dataset."
   ]
  },
  {
   "cell_type": "code",
   "execution_count": 16,
   "metadata": {},
   "outputs": [
    {
     "name": "stdout",
     "output_type": "stream",
     "text": [
      "<class 'pandas.core.frame.DataFrame'>\n",
      "RangeIndex: 10870 entries, 0 to 10869\n",
      "Data columns (total 14 columns):\n",
      "prod_id              10870 non-null int64\n",
      "ages                 10870 non-null object\n",
      "piece_count          10870 non-null float64\n",
      "set_name             10870 non-null object\n",
      "prod_desc            10512 non-null object\n",
      "prod_long_desc       10870 non-null object\n",
      "theme_name           10870 non-null object\n",
      "country              10870 non-null object\n",
      "list_price           10870 non-null float64\n",
      "num_reviews          9449 non-null float64\n",
      "play_star_rating     10870 non-null float64\n",
      "review_difficulty    10870 non-null object\n",
      "star_rating          10870 non-null float64\n",
      "val_star_rating      10870 non-null float64\n",
      "dtypes: float64(6), int64(1), object(7)\n",
      "memory usage: 1.2+ MB\n"
     ]
    }
   ],
   "source": [
    "df.info()"
   ]
  },
  {
   "cell_type": "code",
   "execution_count": null,
   "metadata": {},
   "outputs": [],
   "source": [
    "dummies = pd.get_dummies(df[[\"ages\", \"theme_name\", \"country\", \"review_diffi\"]])"
   ]
  },
  {
   "cell_type": "markdown",
   "metadata": {},
   "source": [
    "That's it! You've now successfully scrubbed your dataset--you're now ready for data exploration and modeling!\n",
    "\n",
    "## Summary\n",
    "\n",
    "In this lesson, you learned gain practice with data cleaning by:\n",
    "\n",
    "* Casting columns to the appropriate data types\n",
    "* Identifying and deal with null values appropriately\n",
    "* Removing unnecessary columns\n",
    "* Checking for and deal with multicollinearity\n",
    "* Normalizing your data"
   ]
  }
 ],
 "metadata": {
  "kernelspec": {
   "display_name": "Python 3",
   "language": "python",
   "name": "python3"
  },
  "language_info": {
   "codemirror_mode": {
    "name": "ipython",
    "version": 3
   },
   "file_extension": ".py",
   "mimetype": "text/x-python",
   "name": "python",
   "nbconvert_exporter": "python",
   "pygments_lexer": "ipython3",
   "version": "3.6.6"
  }
 },
 "nbformat": 4,
 "nbformat_minor": 2
}
